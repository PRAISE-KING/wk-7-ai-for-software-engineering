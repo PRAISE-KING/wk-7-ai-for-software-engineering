{
  "nbformat": 4,
  "nbformat_minor": 0,
  "metadata": {
    "colab": {
      "provenance": [],
      "authorship_tag": "ABX9TyO8QPX2ztYP7fssJTJENTtZ",
      "include_colab_link": true
    },
    "kernelspec": {
      "name": "python3",
      "display_name": "Python 3"
    },
    "language_info": {
      "name": "python"
    }
  },
  "cells": [
    {
      "cell_type": "markdown",
      "metadata": {
        "id": "view-in-github",
        "colab_type": "text"
      },
      "source": [
        "<a href=\"https://colab.research.google.com/github/PRAISE-KING/wk-7-ai-for-software-engineering/blob/main/COMPAS_Recidivism_Dataset.ipynb\" target=\"_parent\"><img src=\"https://colab.research.google.com/assets/colab-badge.svg\" alt=\"Open In Colab\"/></a>"
      ]
    },
    {
      "cell_type": "code",
      "metadata": {
        "colab": {
          "base_uri": "https://localhost:8080/"
        },
        "id": "2cce642e",
        "outputId": "c7cf8417-b09b-4a83-981a-50ed5c7adfb2"
      },
      "source": [
        "import requests\n",
        "import os\n",
        "\n",
        "# Define the URL and the target directory\n",
        "url = \"https://raw.githubusercontent.com/propublica/compas-analysis/master/compas-scores-two-years.csv\"\n",
        "target_dir = \"/usr/local/lib/python3.11/dist-packages/aif360/data/raw/compas\"\n",
        "target_file = os.path.join(target_dir, \"compas-scores-two-years.csv\")\n",
        "\n",
        "# Create the target directory if it doesn't exist\n",
        "os.makedirs(target_dir, exist_ok=True)\n",
        "\n",
        "# Download the file\n",
        "response = requests.get(url)\n",
        "response.raise_for_status() # Raise an exception for bad status codes\n",
        "with open(target_file, 'wb') as f:\n",
        "    f.write(response.content)\n",
        "\n",
        "print(f\"Downloaded {url} to {target_file}\")"
      ],
      "execution_count": 2,
      "outputs": [
        {
          "output_type": "stream",
          "name": "stdout",
          "text": [
            "Downloaded https://raw.githubusercontent.com/propublica/compas-analysis/master/compas-scores-two-years.csv to /usr/local/lib/python3.11/dist-packages/aif360/data/raw/compas/compas-scores-two-years.csv\n"
          ]
        }
      ]
    },
    {
      "cell_type": "code",
      "source": [
        "# 3. Load COMPAS Dataset from AIF360\n",
        "from aif360.datasets import CompasDataset\n",
        "from aif360.metrics import ClassificationMetric\n",
        "from aif360.algorithms.preprocessing import Reweighing\n",
        "import numpy as np\n",
        "from sklearn.ensemble import RandomForestClassifier\n",
        "from sklearn.model_selection import train_test_split\n",
        "import matplotlib.pyplot as plt\n"
      ],
      "metadata": {
        "id": "XmihYSA5HMVK"
      },
      "execution_count": 4,
      "outputs": []
    },
    {
      "cell_type": "code",
      "source": [
        "\n",
        "# Load dataset\n",
        "dataset = CompasDataset()\n",
        "dataset_orig = dataset.copy()"
      ],
      "metadata": {
        "colab": {
          "base_uri": "https://localhost:8080/"
        },
        "id": "CHFbg0D3HZ5_",
        "outputId": "93f9c536-6587-48fa-b2bd-27de090d7ed7"
      },
      "execution_count": 5,
      "outputs": [
        {
          "output_type": "stream",
          "name": "stderr",
          "text": [
            "WARNING:root:Missing Data: 5 rows removed from CompasDataset.\n"
          ]
        }
      ]
    },
    {
      "cell_type": "code",
      "source": [
        "\n",
        "# Define privileged/unprivileged groups\n",
        "privileged_groups = [{'race': 1}]      # Caucasian\n",
        "unprivileged_groups = [{'race': 0}]    # African-American"
      ],
      "metadata": {
        "id": "XJhuT9D3Hjl3"
      },
      "execution_count": 6,
      "outputs": []
    },
    {
      "cell_type": "code",
      "source": [
        "# Split dataset\n",
        "train, test = dataset_orig.split([0.7], shuffle=True)"
      ],
      "metadata": {
        "id": "-NYK1IarHrDS"
      },
      "execution_count": 7,
      "outputs": []
    },
    {
      "cell_type": "code",
      "source": [
        "# Apply reweighing to mitigate bias\n",
        "RW = Reweighing(unprivileged_groups=unprivileged_groups, privileged_groups=privileged_groups)\n",
        "train_transf = RW.fit_transform(train)"
      ],
      "metadata": {
        "id": "mSamolxdHth_"
      },
      "execution_count": 8,
      "outputs": []
    },
    {
      "cell_type": "code",
      "source": [
        "# Train Random Forest model\n",
        "X_train = train_transf.features\n",
        "y_train = train_transf.labels.ravel()\n",
        "\n",
        "X_test = test.features\n",
        "y_test = test.labels.ravel()\n",
        "\n",
        "clf = RandomForestClassifier()\n",
        "clf.fit(X_train, y_train)\n",
        "y_pred = clf.predict(X_test)"
      ],
      "metadata": {
        "id": "ZJuhNdOJHuIx"
      },
      "execution_count": 9,
      "outputs": []
    },
    {
      "cell_type": "code",
      "source": [
        "# Add predictions to test dataset\n",
        "test_pred = test.copy()\n",
        "test_pred.labels = y_pred.reshape(-1, 1)"
      ],
      "metadata": {
        "id": "hps4Fz0uHui1"
      },
      "execution_count": 10,
      "outputs": []
    },
    {
      "cell_type": "code",
      "source": [
        "# 4. Bias Metrics & Visualization\n",
        "metric = ClassificationMetric(test, test_pred,\n",
        "                               unprivileged_groups=unprivileged_groups,\n",
        "                               privileged_groups=privileged_groups)"
      ],
      "metadata": {
        "id": "SpnPJGq9Hu8O"
      },
      "execution_count": 11,
      "outputs": []
    },
    {
      "cell_type": "code",
      "source": [
        "# Print false positive rates\n",
        "print(\"False Positive Rate (African-American):\", metric.false_positive_rate(privileged=False))\n",
        "print(\"False Positive Rate (Caucasian):\", metric.false_positive_rate(privileged=True))"
      ],
      "metadata": {
        "colab": {
          "base_uri": "https://localhost:8080/"
        },
        "id": "37k9bopfIRCv",
        "outputId": "12e16381-c7cb-4e33-8cd6-79b93dae178e"
      },
      "execution_count": 13,
      "outputs": [
        {
          "output_type": "stream",
          "name": "stdout",
          "text": [
            "False Positive Rate (African-American): 0.3708609271523179\n",
            "False Positive Rate (Caucasian): 0.4583333333333333\n"
          ]
        }
      ]
    },
    {
      "cell_type": "code",
      "source": [
        "# Plot FPR disparity\n",
        "labels = ['African-American', 'Caucasian']\n",
        "values = [metric.false_positive_rate(privileged=False),\n",
        "          metric.false_positive_rate(privileged=True)]\n",
        "\n",
        "plt.bar(labels, values, color=['red', 'blue'])\n",
        "plt.title(\"False Positive Rate by Race\")\n",
        "plt.ylabel(\"Rate\")\n",
        "plt.ylim(0, 1)\n",
        "plt.grid(axis='y')\n",
        "plt.show()"
      ],
      "metadata": {
        "colab": {
          "base_uri": "https://localhost:8080/",
          "height": 452
        },
        "id": "aZi0dXwVIRgK",
        "outputId": "26f25a19-dfbf-4e8a-aa92-754633d4fbaf"
      },
      "execution_count": 15,
      "outputs": [
        {
          "output_type": "display_data",
          "data": {
            "text/plain": [
              "<Figure size 640x480 with 1 Axes>"
            ],
            "image/png": "[encoded data removed]"
          },
          "metadata": {}
        }
      ]
    }
  ]
}